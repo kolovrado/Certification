{
 "cells": [
  {
   "cell_type": "code",
   "execution_count": 47,
   "metadata": {},
   "outputs": [
    {
     "name": "stdout",
     "output_type": "stream",
     "text": [
      "[]\n",
      "[437.5, 515.84]\n",
      "[459.18, 574.81, 449.96, 549.26]\n",
      "[437.7, 519.35, 449.07, 536.34, 445.81, 532.45]\n",
      "[418.07, 579.37, 422.11, 566.64, 429.09, 567.34, 430.12, 564.17]\n",
      "[451.6, 639.83, 424.69, 588.37, 426.93, 575.5, 432.17, 575.45, 432.74, 572.17]\n",
      "[421.94, 631.63, 434.98, 635.73, 424.13, 593.97, 426.07, 581.56, 430.65, 581.1, 431.28, 577.86]\n",
      "[]\n",
      "[]\n",
      "\n",
      "477.0\n",
      "508.0\n",
      "487.0\n",
      "497.0\n",
      "512.0\n",
      "514.0\n",
      "\n",
      "499.1666666666667\n"
     ]
    }
   ],
   "source": [
    "#Модуль упругости при растяжении\n",
    "import numpy as np\n",
    "#образец 1 / интервал 1\n",
    "Delt = [0.045, 0.125, 0.233, 0.329, 0.699, 0.790, 0.906, 1.006] #удлинение, мм\n",
    "F = [41.8, 117.6, 225, 316, 651, 740, 846, 995] #нагрузка, Н\n",
    "b, h = 17.6, 7.26 #ширина/высота образца, мм\n",
    "L0 = 59 #начальная длина образца, мм\n",
    "#образец 2 / интервал 2\n",
    "Delt1 = [0.059, 0.111, 0.179, 0.333, 0.905, 1.005, 1.105]\n",
    "F1 = [99.3, 164.7, 260, 455, 1263, 1419, 1573]\n",
    "b1, h1 = 17.5, 8.22\n",
    "L01 = 59\n",
    "leng = max(len(Delt), len(Delt1))\n",
    "ans = [[] for i in range(leng+1)]\n",
    "ans_mean = []\n",
    "for i in range(1, leng-1):\n",
    "    for j in range(i-1, -1, -1):\n",
    "        Ec = (F[i] - F[j])*L0/((b * h) * (Delt[i] - Delt[j]))\n",
    "        Ec1 = (F1[i] - F1[j])*L01/((b1 * h1) * (Delt1[i] - Delt1[j]))\n",
    "        ans[i].append(np.round(Ec, 2))\n",
    "        ans[i].append(np.round(Ec1, 2))\n",
    "    ans_mean.append(np.round(np.mean(ans[i])))\n",
    "for elem in ans:\n",
    "    print(elem)\n",
    "print()\n",
    "for elem in ans_mean:\n",
    "    print(elem)\n",
    "print()\n",
    "print(np.mean(ans_mean))"
   ]
  },
  {
   "cell_type": "code",
   "execution_count": 50,
   "metadata": {},
   "outputs": [
    {
     "name": "stdout",
     "output_type": "stream",
     "text": [
      "[]\n",
      "[2747.79, 2450.36]\n",
      "[3204.86, 2772.65, 3113.45, 2673.37]\n",
      "[3557.13, 2807.25, 3409.88, 2788.32, 3347.23, 2722.11]\n",
      "[]\n",
      "[]\n",
      "\n",
      "2599.0\n",
      "2941.0\n",
      "3105.0\n",
      "\n",
      "2881.6666666666665\n"
     ]
    }
   ],
   "source": [
    "#Модуль упругости при сжатии\n",
    "#образец 1  / интервал 1\n",
    "Delt = [0.355, 0.420, 0.68, 1.042] #удлинение, мм\n",
    "F = [795.19, 1041.39, 2190, 3965] #нагрузка, Н\n",
    "b, h = 8.59, 7.90 #ширина/высота образца, мм\n",
    "L0 = 49.23 #начальная длина образца, мм\n",
    "#образец 2 / интервал 2\n",
    "Delt1 = [0.561, 0.695, 0.996, 1.245, 1.506]\n",
    "F1 = [979.74, 1514.3, 2873, 4011, 5151.6]\n",
    "b1, h1 = 9.91, 7.92\n",
    "L01 = 48.21\n",
    "leng = max(len(Delt), len(Delt1))\n",
    "ans = [[] for i in range(leng+1)]\n",
    "ans_mean = []\n",
    "for i in range(1, leng-1):\n",
    "    for j in range(i-1, -1, -1):\n",
    "        Ec = (F[i] - F[j])*L0/((b * h) * (Delt[i] - Delt[j]))\n",
    "        Ec1 = (F1[i] - F1[j])*L01/((b1 * h1) * (Delt1[i] - Delt1[j]))\n",
    "        ans[i].append(np.round(Ec, 2))\n",
    "        ans[i].append(np.round(Ec1, 2))\n",
    "    ans_mean.append(np.round(np.mean(ans[i])))\n",
    "for elem in ans:\n",
    "    print(elem)\n",
    "print()\n",
    "for elem in ans_mean:\n",
    "    print(elem)\n",
    "print()\n",
    "print(np.mean(ans_mean))"
   ]
  },
  {
   "cell_type": "code",
   "execution_count": 53,
   "metadata": {},
   "outputs": [
    {
     "name": "stdout",
     "output_type": "stream",
     "text": [
      "[]\n",
      "[2934.25, 1590.62]\n",
      "[2419.21, 2235.06, 2535.51, 2089.54]\n",
      "[2696.36, 1999.15, 2624.83, 2060.03, 2646.49, 2027.17]\n",
      "[]\n",
      "[]\n",
      "\n",
      "2262.0\n",
      "2320.0\n",
      "2342.0\n",
      "\n",
      "2308.0\n"
     ]
    }
   ],
   "source": [
    "#Модуль упругости при изгибе\n",
    "#образец 1  / интервал 1\n",
    "Delt = [0.007, 0.021, 0.069, 0.207, 0.618]\n",
    "F = [5.81, 8.50, 16.104, 40.47, 115.36]\n",
    "b, h = 10, 8.25\n",
    "L0 = 70\n",
    "#образец 2 / интервал 2\n",
    "Delt1 = [0.007, 0.021, 0.069, 0.207, 0.618]\n",
    "F1 = [5.283, 6.857, 14.44, 33.94, 87.34]\n",
    "b1, h1 = 9.8, 8.52\n",
    "L01 = 70\n",
    "leng = max(len(Delt), len(Delt1))\n",
    "ans = [[] for i in range(leng+1)]\n",
    "ans_mean = []\n",
    "for i in range(1, leng-1):\n",
    "    for j in range(i-1, -1, -1):\n",
    "        Ec = (F[i] - F[j])*(L0**3)/((4 * b * (h**3)) * (Delt[i] - Delt[j]))\n",
    "        Ec1 = (F1[i] - F1[j])*(L01**3)/((4 * b1 * (h1**3)) * (Delt1[i] - Delt1[j]))\n",
    "        ans[i].append(np.round(Ec, 2))\n",
    "        ans[i].append(np.round(Ec1, 2))\n",
    "    ans_mean.append(np.round(np.mean(ans[i])))\n",
    "for elem in ans:\n",
    "    print(elem)\n",
    "print()\n",
    "for elem in ans_mean:\n",
    "    print(elem)\n",
    "print()\n",
    "print(np.mean(ans_mean))"
   ]
  },
  {
   "cell_type": "code",
   "execution_count": null,
   "metadata": {},
   "outputs": [],
   "source": []
  }
 ],
 "metadata": {
  "kernelspec": {
   "display_name": "Python 3",
   "language": "python",
   "name": "python3"
  },
  "language_info": {
   "codemirror_mode": {
    "name": "ipython",
    "version": 3
   },
   "file_extension": ".py",
   "mimetype": "text/x-python",
   "name": "python",
   "nbconvert_exporter": "python",
   "pygments_lexer": "ipython3",
   "version": "3.7.3"
  }
 },
 "nbformat": 4,
 "nbformat_minor": 2
}
